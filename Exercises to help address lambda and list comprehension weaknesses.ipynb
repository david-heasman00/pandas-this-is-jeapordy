{
 "cells": [
  {
   "cell_type": "markdown",
   "id": "d5cc3551",
   "metadata": {},
   "source": [
    "Absolutely, David! I’ll create five exercises that progressively build your understanding of list comprehensions, lambda functions, and their use in Pandas. These exercises will start from foundational elements and grow in complexity to help you become more comfortable with the concepts. Let’s dive in:\n",
    "\n",
    "### Exercise 1: Basic List Comprehensions\n",
    "**Goal**: Practice basic list comprehensions by creating a new list.\n",
    "\n",
    "**Task**:\n",
    "1. You have a list of numbers: `[1, 2, 3, 4, 5, 6, 7, 8, 9, 10]`.\n",
    "2. Create a new list that contains **only the even numbers** from this list using a list comprehension.\n",
    "3. Then, create another list that contains the **squares** of these even numbers.\n",
    "\n",
    "**Hints**:\n",
    "- For filtering evens: Use the modulus operator `%` to find even numbers.\n",
    "- For squaring: Just multiply the number by itself.\n",
    "\n",
    "**Example**:\n",
    "- Original List: `[1, 2, 3, 4, 5, 6, 7, 8, 9, 10]`\n",
    "- Filtered (Evens): `[2, 4, 6, 8, 10]`\n",
    "- Squares of Evens: `[4, 16, 36, 64, 100]`\n",
    "\n",
    "### Exercise 2: Rewrite List Comprehensions in Expanded Form\n",
    "**Goal**: Understand the expanded form of list comprehensions.\n",
    "\n",
    "**Task**:\n",
    "1. Rewrite the following list comprehension into its more \"traditional\" form using a loop and conditional statements:\n",
    "   ```python\n",
    "   numbers = [1, 2, 3, 4, 5, 6, 7, 8, 9, 10]\n",
    "   even_numbers = [x for x in numbers if x % 2 == 0]\n",
    "   ```\n",
    "2. Write the equivalent code using a `for` loop and `if` statements, creating a new list called `even_numbers` by explicitly appending elements.\n",
    "\n",
    "**Hint**:\n",
    "- Start by creating an empty list, iterate through `numbers`, check if it’s even, and then append it.\n",
    "\n",
    "### Exercise 3: Lambda Function Practice with Filtering\n",
    "**Exercise 3: Filtering Practice in Two Parts**\n",
    "\n",
    "Let’s break this exercise into two smaller steps so you can get more comfortable with the `filter()` function and how it works, both with traditional functions and with `lambda`.\n",
    "\n",
    "#### Part 1: Using `filter()` with a Traditional Function\n",
    "\n",
    "**Goal**: Understand the `filter()` function with a traditional function before moving to lambdas.\n",
    "\n",
    "**Task**:\n",
    "\n",
    "1. You have a list of names: `names = [\"Anna\", \"Bob\", \"Charlie\", \"David\", \"Evelyn\", \"Frank\"]`.\n",
    "2. Write a regular function named `contains_a()` that returns `True` if a name **contains the letter 'a'** (case insensitive) and `False` otherwise.\n",
    "3. Use the `filter()` function to create a **filtered list** of names that **do contain** the letter 'a'.\n",
    "4. Print the list of filtered names.\n",
    "\n",
    "**Hints**:\n",
    "\n",
    "- Define the function like this:\n",
    "\n",
    "  ```python\n",
    "  def contains_a(name):\n",
    "      return 'a' in name.lower()\n",
    "  ```\n",
    "\n",
    "  This function converts the name to lowercase to make sure it catches both uppercase and lowercase 'a'.\n",
    "\n",
    "- Use the `filter()` function like this:\n",
    "\n",
    "  ```python\n",
    "  filtered_names = filter(contains_a, names)\n",
    "  ```\n",
    "\n",
    "  `filter()` takes two arguments: the function to apply (`contains_a`) and the list to filter (`names`). It will return an **iterator**, which you can convert to a list by using `list(filtered_names)`.\n",
    "\n",
    "**Expected Output**:\n",
    "\n",
    "- The filtered list should contain names like: `['Anna', 'Charlie', 'David', 'Frank']`.\n",
    "\n",
    "#### Part 2: Using `filter()` with a Lambda Function\n",
    "\n",
    "**Goal**: Now that you understand the basics of `filter()`, use a `lambda` function to accomplish the same task.\n",
    "\n",
    "**Task**:\n",
    "\n",
    "1. Use the same list of names: `names = [\"Anna\", \"Bob\", \"Charlie\", \"David\", \"Evelyn\", \"Frank\"]`.\n",
    "2. Instead of writing a traditional function, use a `lambda` function with `filter()` to filter out names that **do contain** the letter 'a' (case insensitive).\n",
    "3. Print the list of filtered names.\n",
    "\n",
    "**Example**:\n",
    "\n",
    "- Here’s how to use a `lambda` function with `filter()`:\n",
    "\n",
    "  ```python\n",
    "  filtered_names_lambda = filter(lambda name: 'a' in name.lower(), names)\n",
    "  filtered_names_list = list(filtered_names_lambda)\n",
    "  print(filtered_names_list)\n",
    "  ```\n",
    "\n",
    "**Expected Output**:\n",
    "\n",
    "- You should get the same filtered list as Part 1: `['Anna', 'Charlie', 'David', 'Frank']`.\n",
    "\n",
    "\n",
    "\n",
    "\n",
    "\n",
    "### Exercise 4: Apply a Function to a DataFrame\n",
    "**Goal**: Practice applying a function using `.apply()`.\n",
    "\n",
    "**Task**:\n",
    "1. Create a DataFrame with the following data:\n",
    "   ```python\n",
    "   import pandas as pd\n",
    "\n",
    "   data = {\n",
    "       'Name': ['Alice', 'Bob', 'Charlie', 'David', 'Evelyn'],\n",
    "       'Age': [25, 30, 35, 40, 45]\n",
    "   }\n",
    "\n",
    "   df = pd.DataFrame(data)\n",
    "   ```\n",
    "2. Write a function `double_age()` that takes an age as input and returns **twice** that age.\n",
    "3. Use `.apply()` to create a new column called `'Double Age'` that contains the doubled value of the age for each row using your function.\n",
    "\n",
    "**Hints**:\n",
    "- Define `double_age()` using a regular function (no lambda this time).\n",
    "- Use `.apply()` on the `'Age'` column and assign the result to a new column `'Double Age'`.\n",
    "\n",
    "### Exercise 5: Advanced Filtering with `.apply()` and List\n",
    "**Goal**: Combine all concepts with DataFrame filtering.\n",
    "\n",
    "**Task**:\n",
    "1. Expand the DataFrame you created in Exercise 4 by adding a column `'Bio'`:\n",
    "   ```python\n",
    "   df['Bio'] = [\n",
    "       'Alice is a software developer.',\n",
    "       'Bob enjoys playing soccer.',\n",
    "       'Charlie is a data analyst.',\n",
    "       'David loves painting and hiking.',\n",
    "       'Evelyn writes poetry and blogs.'\n",
    "   ]\n",
    "   ```\n",
    "2. Write a function `contains_keyword()` that takes a string and a list of keywords as input. It should return `True` if **any** of the keywords are found in the string.\n",
    "3. Use `.apply()` to filter the rows of the DataFrame where the `'Bio'` contains any of the keywords from the list `['developer', 'data', 'hiking']`.\n",
    "4. Assign the filtered DataFrame to a new DataFrame called `filtered_df`.\n",
    "\n",
    "**Hints**:\n",
    "- You can start by defining `contains_keyword()` with a simple `for` loop to iterate over the list of keywords.\n",
    "- The function can look like:\n",
    "  ```python\n",
    "  def contains_keyword(text, keywords):\n",
    "      for word in keywords:\n",
    "          if word in text.lower():\n",
    "              return True\n",
    "      return False\n",
    "  ```\n",
    "- Use `.apply()` on the `'Bio'` column along with the `contains_keyword()` function.\n",
    "\n",
    "### How These Exercises Will Help:\n",
    "1. **Exercise 1** helps you practice list comprehensions, filtering, and transforming lists.\n",
    "2. **Exercise 2** gives you a side-by-side understanding of list comprehensions versus traditional loops, which makes it easier to see what’s being condensed.\n",
    "3. **Exercise 3** lets you experiment with lambda functions and how they can be used in filtering.\n",
    "4. **Exercise 4** introduces you to applying functions in Pandas to transform data.\n",
    "5. **Exercise 5** ties it all together with filtering and lambda-style functions applied to more real-world DataFrame use cases.\n",
    "\n",
    "Feel free to work through each exercise at your own pace. Let me know if you need hints, explanations, or if you'd like to walk through the solutions together!"
   ]
  },
  {
   "cell_type": "markdown",
   "id": "44851057",
   "metadata": {},
   "source": [
    "Exercise 1"
   ]
  },
  {
   "cell_type": "code",
   "execution_count": 2,
   "id": "e9f34585",
   "metadata": {},
   "outputs": [
    {
     "name": "stdout",
     "output_type": "stream",
     "text": [
      "[2, 4, 6, 8, 10]\n",
      "[4, 16, 36, 64, 100]\n"
     ]
    }
   ],
   "source": [
    "numbers = [1, 2, 3, 4, 5, 6, 7, 8, 9, 10]\n",
    "\n",
    "def even_numbers(list):\n",
    "    new_list = []\n",
    "    for item in list:\n",
    "        if item % 2 == 0:\n",
    "            new_list.append(item)\n",
    "    return new_list\n",
    "\n",
    "print(even_numbers(numbers))\n",
    "\n",
    "def square_number(list):\n",
    "    new_list = []\n",
    "    for item in list:\n",
    "        new_list.append(item**2)\n",
    "    return new_list\n",
    "        \n",
    "print(square_number(even_numbers(numbers)))"
   ]
  },
  {
   "cell_type": "markdown",
   "id": "ddff8324",
   "metadata": {},
   "source": [
    "Exercise 2"
   ]
  },
  {
   "cell_type": "code",
   "execution_count": 3,
   "id": "d969d1e6",
   "metadata": {},
   "outputs": [
    {
     "name": "stdout",
     "output_type": "stream",
     "text": [
      "[2, 4, 6, 8, 10]\n"
     ]
    }
   ],
   "source": [
    "numbers = [1, 2, 3, 4, 5, 6, 7, 8, 9, 10]\n",
    "\n",
    "def even_numbers_2(numbers):\n",
    "    new_list = []\n",
    "    for number in numbers:\n",
    "        if number % 2 ==0:\n",
    "            new_list.append(number)\n",
    "    return new_list\n",
    "\n",
    "print(even_numbers_2(numbers))"
   ]
  },
  {
   "cell_type": "markdown",
   "id": "cb7a83dd",
   "metadata": {},
   "source": [
    "Exercise 3 Part 1"
   ]
  },
  {
   "cell_type": "code",
   "execution_count": 2,
   "id": "18f12a09",
   "metadata": {},
   "outputs": [
    {
     "name": "stdout",
     "output_type": "stream",
     "text": [
      "['Anna', 'Charlie', 'David', 'Frank']\n"
     ]
    }
   ],
   "source": [
    "names = [\"Anna\", \"Bob\", \"Charlie\", \"David\", \"Evelyn\", \"Frank\"]\n",
    "\n",
    "def contains_a(item):\n",
    "    if 'a' in item.lower():\n",
    "        return True\n",
    "    else:\n",
    "        return False\n",
    "\n",
    "filtered_names = filter(contains_a, names)\n",
    "print(list(filtered_names))"
   ]
  },
  {
   "cell_type": "markdown",
   "id": "d57283c4",
   "metadata": {},
   "source": [
    "Exercise 3 Part 2"
   ]
  },
  {
   "cell_type": "code",
   "execution_count": 3,
   "id": "e1db9f0a",
   "metadata": {},
   "outputs": [
    {
     "name": "stdout",
     "output_type": "stream",
     "text": [
      "['Anna', 'Charlie', 'David', 'Frank']\n"
     ]
    }
   ],
   "source": [
    "filtered_names_lambda = filter(lambda item: 'a' in item.lower(), names)\n",
    "print(list(filtered_names_lambda))"
   ]
  },
  {
   "cell_type": "markdown",
   "id": "03c155f0",
   "metadata": {},
   "source": [
    "Exercise 4"
   ]
  },
  {
   "cell_type": "code",
   "execution_count": 5,
   "id": "08c59e76",
   "metadata": {},
   "outputs": [],
   "source": [
    "import pandas as pd\n",
    "\n",
    "data = {\n",
    "    'Name': ['Alice', 'Bob', 'Charlie', 'David', 'Evelyn'],\n",
    "    'Age': [25, 30, 35, 40, 45]\n",
    "}\n",
    "\n",
    "df = pd.DataFrame(data)"
   ]
  },
  {
   "cell_type": "code",
   "execution_count": 6,
   "id": "7cf3c861",
   "metadata": {},
   "outputs": [],
   "source": [
    "def double_age(age):\n",
    "    return age*2"
   ]
  },
  {
   "cell_type": "code",
   "execution_count": 7,
   "id": "a9e26200",
   "metadata": {},
   "outputs": [
    {
     "data": {
      "text/html": [
       "<div>\n",
       "<style scoped>\n",
       "    .dataframe tbody tr th:only-of-type {\n",
       "        vertical-align: middle;\n",
       "    }\n",
       "\n",
       "    .dataframe tbody tr th {\n",
       "        vertical-align: top;\n",
       "    }\n",
       "\n",
       "    .dataframe thead th {\n",
       "        text-align: right;\n",
       "    }\n",
       "</style>\n",
       "<table border=\"1\" class=\"dataframe\">\n",
       "  <thead>\n",
       "    <tr style=\"text-align: right;\">\n",
       "      <th></th>\n",
       "      <th>Name</th>\n",
       "      <th>Age</th>\n",
       "      <th>Double Age</th>\n",
       "    </tr>\n",
       "  </thead>\n",
       "  <tbody>\n",
       "    <tr>\n",
       "      <th>0</th>\n",
       "      <td>Alice</td>\n",
       "      <td>25</td>\n",
       "      <td>50</td>\n",
       "    </tr>\n",
       "    <tr>\n",
       "      <th>1</th>\n",
       "      <td>Bob</td>\n",
       "      <td>30</td>\n",
       "      <td>60</td>\n",
       "    </tr>\n",
       "    <tr>\n",
       "      <th>2</th>\n",
       "      <td>Charlie</td>\n",
       "      <td>35</td>\n",
       "      <td>70</td>\n",
       "    </tr>\n",
       "    <tr>\n",
       "      <th>3</th>\n",
       "      <td>David</td>\n",
       "      <td>40</td>\n",
       "      <td>80</td>\n",
       "    </tr>\n",
       "    <tr>\n",
       "      <th>4</th>\n",
       "      <td>Evelyn</td>\n",
       "      <td>45</td>\n",
       "      <td>90</td>\n",
       "    </tr>\n",
       "  </tbody>\n",
       "</table>\n",
       "</div>"
      ],
      "text/plain": [
       "      Name  Age  Double Age\n",
       "0    Alice   25          50\n",
       "1      Bob   30          60\n",
       "2  Charlie   35          70\n",
       "3    David   40          80\n",
       "4   Evelyn   45          90"
      ]
     },
     "execution_count": 7,
     "metadata": {},
     "output_type": "execute_result"
    }
   ],
   "source": [
    "df['Double Age'] = df['Age'].apply(double_age)\n",
    "df.head()"
   ]
  },
  {
   "cell_type": "markdown",
   "id": "237e4659",
   "metadata": {},
   "source": [
    "Exercise 5"
   ]
  },
  {
   "cell_type": "code",
   "execution_count": 8,
   "id": "11e6a4c2",
   "metadata": {},
   "outputs": [
    {
     "data": {
      "text/html": [
       "<div>\n",
       "<style scoped>\n",
       "    .dataframe tbody tr th:only-of-type {\n",
       "        vertical-align: middle;\n",
       "    }\n",
       "\n",
       "    .dataframe tbody tr th {\n",
       "        vertical-align: top;\n",
       "    }\n",
       "\n",
       "    .dataframe thead th {\n",
       "        text-align: right;\n",
       "    }\n",
       "</style>\n",
       "<table border=\"1\" class=\"dataframe\">\n",
       "  <thead>\n",
       "    <tr style=\"text-align: right;\">\n",
       "      <th></th>\n",
       "      <th>Name</th>\n",
       "      <th>Age</th>\n",
       "      <th>Double Age</th>\n",
       "      <th>Bio</th>\n",
       "    </tr>\n",
       "  </thead>\n",
       "  <tbody>\n",
       "    <tr>\n",
       "      <th>0</th>\n",
       "      <td>Alice</td>\n",
       "      <td>25</td>\n",
       "      <td>50</td>\n",
       "      <td>Alice is a software developer.</td>\n",
       "    </tr>\n",
       "    <tr>\n",
       "      <th>1</th>\n",
       "      <td>Bob</td>\n",
       "      <td>30</td>\n",
       "      <td>60</td>\n",
       "      <td>Bob enjoys playing soccer.</td>\n",
       "    </tr>\n",
       "    <tr>\n",
       "      <th>2</th>\n",
       "      <td>Charlie</td>\n",
       "      <td>35</td>\n",
       "      <td>70</td>\n",
       "      <td>Charlie is a data analyst.</td>\n",
       "    </tr>\n",
       "    <tr>\n",
       "      <th>3</th>\n",
       "      <td>David</td>\n",
       "      <td>40</td>\n",
       "      <td>80</td>\n",
       "      <td>David loves painting and hiking.</td>\n",
       "    </tr>\n",
       "    <tr>\n",
       "      <th>4</th>\n",
       "      <td>Evelyn</td>\n",
       "      <td>45</td>\n",
       "      <td>90</td>\n",
       "      <td>Evelyn writes poetry and blogs.</td>\n",
       "    </tr>\n",
       "  </tbody>\n",
       "</table>\n",
       "</div>"
      ],
      "text/plain": [
       "      Name  Age  Double Age                               Bio\n",
       "0    Alice   25          50    Alice is a software developer.\n",
       "1      Bob   30          60        Bob enjoys playing soccer.\n",
       "2  Charlie   35          70        Charlie is a data analyst.\n",
       "3    David   40          80  David loves painting and hiking.\n",
       "4   Evelyn   45          90   Evelyn writes poetry and blogs."
      ]
     },
     "execution_count": 8,
     "metadata": {},
     "output_type": "execute_result"
    }
   ],
   "source": [
    "df['Bio'] = [\n",
    "    'Alice is a software developer.',\n",
    "    'Bob enjoys playing soccer.',\n",
    "    'Charlie is a data analyst.',\n",
    "    'David loves painting and hiking.',\n",
    "    'Evelyn writes poetry and blogs.'\n",
    "]\n",
    "df.head()"
   ]
  },
  {
   "cell_type": "code",
   "execution_count": 9,
   "id": "24bb7cfe",
   "metadata": {},
   "outputs": [],
   "source": [
    "def contains_keyword(text, keywords):\n",
    "    for word in keywords:\n",
    "        if word in text.lower():\n",
    "            return True\n",
    "        else:\n",
    "            return False"
   ]
  },
  {
   "cell_type": "code",
   "execution_count": null,
   "id": "2faba27d",
   "metadata": {},
   "outputs": [],
   "source": [
    "filtered_df = df['Bio'].apply()"
   ]
  }
 ],
 "metadata": {
  "kernelspec": {
   "display_name": "Python 3 (ipykernel)",
   "language": "python",
   "name": "python3"
  },
  "language_info": {
   "codemirror_mode": {
    "name": "ipython",
    "version": 3
   },
   "file_extension": ".py",
   "mimetype": "text/x-python",
   "name": "python",
   "nbconvert_exporter": "python",
   "pygments_lexer": "ipython3",
   "version": "3.11.7"
  }
 },
 "nbformat": 4,
 "nbformat_minor": 5
}
