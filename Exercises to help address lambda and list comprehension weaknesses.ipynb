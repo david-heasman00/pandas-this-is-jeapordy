{
 "cells": [
  {
   "cell_type": "markdown",
   "id": "d5cc3551",
   "metadata": {},
   "source": [
    "Absolutely, David! I’ll create five exercises that progressively build your understanding of list comprehensions, lambda functions, and their use in Pandas. These exercises will start from foundational elements and grow in complexity to help you become more comfortable with the concepts. Let’s dive in:\n",
    "\n",
    "### Exercise 1: Basic List Comprehensions\n",
    "**Goal**: Practice basic list comprehensions by creating a new list.\n",
    "\n",
    "**Task**:\n",
    "1. You have a list of numbers: `[1, 2, 3, 4, 5, 6, 7, 8, 9, 10]`.\n",
    "2. Create a new list that contains **only the even numbers** from this list using a list comprehension.\n",
    "3. Then, create another list that contains the **squares** of these even numbers.\n",
    "\n",
    "**Hints**:\n",
    "- For filtering evens: Use the modulus operator `%` to find even numbers.\n",
    "- For squaring: Just multiply the number by itself.\n",
    "\n",
    "**Example**:\n",
    "- Original List: `[1, 2, 3, 4, 5, 6, 7, 8, 9, 10]`\n",
    "- Filtered (Evens): `[2, 4, 6, 8, 10]`\n",
    "- Squares of Evens: `[4, 16, 36, 64, 100]`\n",
    "\n",
    "### Exercise 2: Rewrite List Comprehensions in Expanded Form\n",
    "**Goal**: Understand the expanded form of list comprehensions.\n",
    "\n",
    "**Task**:\n",
    "1. Rewrite the following list comprehension into its more \"traditional\" form using a loop and conditional statements:\n",
    "   ```python\n",
    "   numbers = [1, 2, 3, 4, 5, 6, 7, 8, 9, 10]\n",
    "   even_numbers = [x for x in numbers if x % 2 == 0]\n",
    "   ```\n",
    "2. Write the equivalent code using a `for` loop and `if` statements, creating a new list called `even_numbers` by explicitly appending elements.\n",
    "\n",
    "**Hint**:\n",
    "- Start by creating an empty list, iterate through `numbers`, check if it’s even, and then append it.\n",
    "\n",
    "### Exercise 3: Lambda Function Practice with Filtering\n",
    "**Goal**: Get comfortable with `lambda` functions for filtering lists.\n",
    "\n",
    "**Task**:\n",
    "1. You have a list of names: `[\"Anna\", \"Bob\", \"Charlie\", \"David\", \"Evelyn\", \"Frank\"]`.\n",
    "2. Write a lambda function to filter out names that contain the letter **'a'** (case insensitive).\n",
    "3. Use the `filter()` function along with the lambda to create a list of names that **do not** contain the letter `'a'`.\n",
    "\n",
    "**Hints**:\n",
    "- Use the `filter()` function: `filter(function, iterable)`.\n",
    "- Convert strings to lowercase using `.lower()` to make it case insensitive.\n",
    "\n",
    "### Exercise 4: Apply a Function to a DataFrame\n",
    "**Goal**: Practice applying a function using `.apply()`.\n",
    "\n",
    "**Task**:\n",
    "1. Create a DataFrame with the following data:\n",
    "   ```python\n",
    "   import pandas as pd\n",
    "\n",
    "   data = {\n",
    "       'Name': ['Alice', 'Bob', 'Charlie', 'David', 'Evelyn'],\n",
    "       'Age': [25, 30, 35, 40, 45]\n",
    "   }\n",
    "\n",
    "   df = pd.DataFrame(data)\n",
    "   ```\n",
    "2. Write a function `double_age()` that takes an age as input and returns **twice** that age.\n",
    "3. Use `.apply()` to create a new column called `'Double Age'` that contains the doubled value of the age for each row using your function.\n",
    "\n",
    "**Hints**:\n",
    "- Define `double_age()` using a regular function (no lambda this time).\n",
    "- Use `.apply()` on the `'Age'` column and assign the result to a new column `'Double Age'`.\n",
    "\n",
    "### Exercise 5: Advanced Filtering with `.apply()` and List\n",
    "**Goal**: Combine all concepts with DataFrame filtering.\n",
    "\n",
    "**Task**:\n",
    "1. Expand the DataFrame you created in Exercise 4 by adding a column `'Bio'`:\n",
    "   ```python\n",
    "   df['Bio'] = [\n",
    "       'Alice is a software developer.',\n",
    "       'Bob enjoys playing soccer.',\n",
    "       'Charlie is a data analyst.',\n",
    "       'David loves painting and hiking.',\n",
    "       'Evelyn writes poetry and blogs.'\n",
    "   ]\n",
    "   ```\n",
    "2. Write a function `contains_keyword()` that takes a string and a list of keywords as input. It should return `True` if **any** of the keywords are found in the string.\n",
    "3. Use `.apply()` to filter the rows of the DataFrame where the `'Bio'` contains any of the keywords from the list `['developer', 'data', 'hiking']`.\n",
    "4. Assign the filtered DataFrame to a new DataFrame called `filtered_df`.\n",
    "\n",
    "**Hints**:\n",
    "- You can start by defining `contains_keyword()` with a simple `for` loop to iterate over the list of keywords.\n",
    "- The function can look like:\n",
    "  ```python\n",
    "  def contains_keyword(text, keywords):\n",
    "      for word in keywords:\n",
    "          if word in text.lower():\n",
    "              return True\n",
    "      return False\n",
    "  ```\n",
    "- Use `.apply()` on the `'Bio'` column along with the `contains_keyword()` function.\n",
    "\n",
    "### How These Exercises Will Help:\n",
    "1. **Exercise 1** helps you practice list comprehensions, filtering, and transforming lists.\n",
    "2. **Exercise 2** gives you a side-by-side understanding of list comprehensions versus traditional loops, which makes it easier to see what’s being condensed.\n",
    "3. **Exercise 3** lets you experiment with lambda functions and how they can be used in filtering.\n",
    "4. **Exercise 4** introduces you to applying functions in Pandas to transform data.\n",
    "5. **Exercise 5** ties it all together with filtering and lambda-style functions applied to more real-world DataFrame use cases.\n",
    "\n",
    "Feel free to work through each exercise at your own pace. Let me know if you need hints, explanations, or if you'd like to walk through the solutions together!"
   ]
  },
  {
   "cell_type": "markdown",
   "id": "44851057",
   "metadata": {},
   "source": [
    "Exercise 1"
   ]
  },
  {
   "cell_type": "code",
   "execution_count": 2,
   "id": "e9f34585",
   "metadata": {},
   "outputs": [
    {
     "name": "stdout",
     "output_type": "stream",
     "text": [
      "[2, 4, 6, 8, 10]\n",
      "[4, 16, 36, 64, 100]\n"
     ]
    }
   ],
   "source": [
    "numbers = [1, 2, 3, 4, 5, 6, 7, 8, 9, 10]\n",
    "\n",
    "def even_numbers(list):\n",
    "    new_list = []\n",
    "    for item in list:\n",
    "        if item % 2 == 0:\n",
    "            new_list.append(item)\n",
    "    return new_list\n",
    "\n",
    "print(even_numbers(numbers))\n",
    "\n",
    "def square_number(list):\n",
    "    new_list = []\n",
    "    for item in list:\n",
    "        new_list.append(item**2)\n",
    "    return new_list\n",
    "        \n",
    "print(square_number(even_numbers(numbers)))"
   ]
  },
  {
   "cell_type": "markdown",
   "id": "ddff8324",
   "metadata": {},
   "source": [
    "Exercise 2"
   ]
  },
  {
   "cell_type": "code",
   "execution_count": 3,
   "id": "d969d1e6",
   "metadata": {},
   "outputs": [
    {
     "name": "stdout",
     "output_type": "stream",
     "text": [
      "[2, 4, 6, 8, 10]\n"
     ]
    }
   ],
   "source": [
    "numbers = [1, 2, 3, 4, 5, 6, 7, 8, 9, 10]\n",
    "\n",
    "def even_numbers_2(numbers):\n",
    "    new_list = []\n",
    "    for number in numbers:\n",
    "        if number % 2 ==0:\n",
    "            new_list.append(number)\n",
    "    return new_list\n",
    "\n",
    "print(even_numbers_2(numbers))"
   ]
  },
  {
   "cell_type": "markdown",
   "id": "cb7a83dd",
   "metadata": {},
   "source": [
    "Exercise 3"
   ]
  }
 ],
 "metadata": {
  "kernelspec": {
   "display_name": "Python 3 (ipykernel)",
   "language": "python",
   "name": "python3"
  },
  "language_info": {
   "codemirror_mode": {
    "name": "ipython",
    "version": 3
   },
   "file_extension": ".py",
   "mimetype": "text/x-python",
   "name": "python",
   "nbconvert_exporter": "python",
   "pygments_lexer": "ipython3",
   "version": "3.11.7"
  }
 },
 "nbformat": 4,
 "nbformat_minor": 5
}
